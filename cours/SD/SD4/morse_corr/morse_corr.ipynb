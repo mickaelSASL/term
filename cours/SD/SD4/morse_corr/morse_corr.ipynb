{
 "cells": [
  {
   "cell_type": "markdown",
   "metadata": {},
   "source": [
    "# TP Morse Corrigé\n",
    "\n",
    "On associe à chaque caractère une valeur permettant de transformer l'arbre de la figure 1 en arbre binaire de recherche.  \n",
    "De façon logique, la construction de l'arbre binaire de recherche n'est pas indispensable pour la fonction `decode` mais elle est tout de même nécessaire car la classe `binarytree` n'accepte que des entiers pour valeur associées aux noeuds.   \n",
    "Elle le sera si on veut implémenter une fonction `code` qui traduit un message vers le code morse."
   ]
  },
  {
   "cell_type": "code",
   "execution_count": 1,
   "metadata": {},
   "outputs": [],
   "source": [
    "MORSE_DICT =  { 'A':'.-', 'B':'-...',\n",
    "                'C':'-.-.', 'D':'-..', 'E':'.',\n",
    "                'F':'..-.', 'G':'--.', 'H':'....',\n",
    "                'I':'..', 'J':'.---', 'K':'-.-',\n",
    "                'L':'.-..', 'M':'--', 'N':'-.',\n",
    "                'O':'---', 'P':'.--.', 'Q':'--.-',\n",
    "                'R':'.-.', 'S':'...', 'T':'-',\n",
    "                'U':'..-', 'V':'...-', 'W':'.--',\n",
    "                'X':'-..-', 'Y':'-.--', 'Z':'--..',\n",
    "                '1':'.----', '2':'..---', '3':'...--',\n",
    "                '4':'....-', '5':'.....', '6':'-....',\n",
    "                '7':'--...', '8':'---..', '9':'----.',\n",
    "                '0':'-----', ', ':'--..--', '.':'.-.-.-',\n",
    "                '?':'..--..', '/':'-..-.', '-':'-....-',\n",
    "                '(':'-.--.', ')':'-.--.-'}\n"
   ]
  },
  {
   "cell_type": "code",
   "execution_count": 6,
   "metadata": {},
   "outputs": [],
   "source": [
    "MORSE_CODE_DICT = { 'A':10, 'B':15,\n",
    "                    'C':19, 'D':16, 'E':7,\n",
    "                    'F':5, 'G':24, 'H':1,\n",
    "                    'I':4, 'J':13, 'K':20,\n",
    "                    'L':8, 'M':26, 'N':18,\n",
    "                    'O':27, 'P':11, 'Q':25,\n",
    "                    'R':9, 'S':2, 'T':22,\n",
    "                    'U':6, 'V':3, 'W':12,\n",
    "                    'X':16, 'Y':21, 'Z':23, '*':14}"
   ]
  },
  {
   "cell_type": "code",
   "execution_count": 10,
   "metadata": {},
   "outputs": [
    {
     "name": "stdout",
     "output_type": "stream",
     "text": [
      "\n",
      "              ______________14_____________________\n",
      "             /                                     \\\n",
      "        ____7__                           __________22_________\n",
      "       /       \\                         /                     \\\n",
      "    __4__       10___               ____18___               ____26\n",
      "   /     \\     /     \\             /         \\             /      \\\n",
      "  2       6   8      _12         _16         _20         _24       27\n",
      " / \\     /          /   \\       /   \\       /   \\       /   \\\n",
      "1   3   5          11    13    15    17    19    21    23    25\n",
      "\n",
      "True\n"
     ]
    }
   ],
   "source": [
    "from binarytree import Node, bst\n",
    "\n",
    "MORSE_CODE_DICT = { 'A':10, 'B':15,\n",
    "                    'C':19, 'D':16, 'E':7,\n",
    "                    'F':5, 'G':24, 'H':1,\n",
    "                    'I':4, 'J':13, 'K':20,\n",
    "                    'L':8, 'M':26, 'N':18,\n",
    "                    'O':27, 'P':11, 'Q':25,\n",
    "                    'R':9, 'S':2, 'T':22,\n",
    "                    'U':6, 'V':3, 'W':12,\n",
    "                    'X':16, 'Y':21, 'Z':23, '*':14}\n",
    "    \n",
    "root = Node(14)\n",
    "root.left = Node(7)\n",
    "\n",
    "root.left.left = Node(4)\n",
    "root.left.left.left = Node(2)\n",
    "root.left.left.left.left = Node(1)\n",
    "root.left.left.left.right = Node(3)\n",
    "root.left.left.right = Node(6)\n",
    "root.left.left.right.left = Node(5)\n",
    "root.left.right = Node(10)\n",
    "root.left.right.left = Node(9)\n",
    "root.left.right.left.left = Node(8)\n",
    "root.left.right.right = Node(12)\n",
    "root.left.right.right.left = Node(11)\n",
    "root.left.right.right.right = Node(13)\n",
    "\n",
    "root.right = Node(E)\n",
    "root.right.left = Node(18)\n",
    "root.right.left.left = Node(16)\n",
    "root.right.left.left.left = Node(15)\n",
    "root.right.left.left.right = Node(17)\n",
    "root.right.left.right = Node(20)\n",
    "root.right.left.right.left = Node(19)\n",
    "root.right.left.right.right = Node(21)\n",
    "root.right.right = Node(26)\n",
    "root.right.right.left = Node(24)\n",
    "root.right.right.left.left = Node(23)\n",
    "root.right.right.left.right = Node(25)\n",
    "root.right.right.right = Node(27)\n",
    "\n",
    "print(root)\n",
    "print(root.is_bst)\n"
   ]
  },
  {
   "cell_type": "code",
   "execution_count": 11,
   "metadata": {},
   "outputs": [
    {
     "name": "stdout",
     "output_type": "stream",
     "text": [
      "2\n",
      "27\n",
      "2\n"
     ]
    },
    {
     "data": {
      "text/plain": [
       "'SOS'"
      ]
     },
     "execution_count": 11,
     "metadata": {},
     "output_type": "execute_result"
    }
   ],
   "source": [
    "def decode(message):\n",
    "   lettres = message.split(\" \")        # Le message est découpé par lettre à chaque espace (lettres est une liste)\n",
    "   message_decode = \"\"                 # initialisation d'une chaine de caractères vides (pour le message décodé)\n",
    "\n",
    "   for lettre in lettres:              # Parcours de chaque du message codé\n",
    "      noeud = root                     # Début du parcours à la racine\n",
    "      for symbole in lettre:           # Pour chaque caractère (. ou -) du code morse\n",
    "         if symbole == \".\":            # on détermine si on parcours l'arbre à gauche ou à droite\n",
    "            noeud = noeud.left\n",
    "         else:\n",
    "            noeud = noeud.right\n",
    "\n",
    "      for clé, valeur in MORSE_CODE_DICT.items():  # On a obtenu un noeud correspondant à la lettre de l'alphabet.\n",
    "         if noeud.value == valeur:                 # On recherche la lettre correspondant à la valeur du noeud obtenu\n",
    "            message_decode += clé                  # On ajoute la lettre au message décodé\n",
    "   return message_decode\n",
    "\n",
    "decode(\"... --- ...\")"
   ]
  }
 ],
 "metadata": {
  "interpreter": {
   "hash": "b3ba2566441a7c06988d0923437866b63cedc61552a5af99d1f4fb67d367b25f"
  },
  "kernelspec": {
   "display_name": "Python 3.8.8 64-bit ('base': conda)",
   "name": "python3"
  },
  "language_info": {
   "codemirror_mode": {
    "name": "ipython",
    "version": 3
   },
   "file_extension": ".py",
   "mimetype": "text/x-python",
   "name": "python",
   "nbconvert_exporter": "python",
   "pygments_lexer": "ipython3",
   "version": "3.8.8"
  },
  "orig_nbformat": 4
 },
 "nbformat": 4,
 "nbformat_minor": 2
}
