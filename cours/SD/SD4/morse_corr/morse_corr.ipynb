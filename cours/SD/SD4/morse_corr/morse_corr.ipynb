{
 "cells": [
  {
   "cell_type": "markdown",
   "source": [
    "# TP Morse Corrigé\r\n",
    "\r\n",
    "On associe à chaque caractère une valeur permettant de transformer l'arbre de la figure 1 en arbre binaire de recherche.  \r\n",
    "De façon logique, la construction de l'arbre binaire de recherche n'est pas indispensable pour la fonction `decode` mais elle est tout de même nécessaire car la classe `binarytree` n'accepte que des entiers pour valeur associées aux noeuds.   \r\n",
    "Elle le sera si on veut implémenter une fonction `code` qui traduit un message vers le code morse."
   ],
   "metadata": {}
  },
  {
   "cell_type": "code",
   "execution_count": 1,
   "source": [
    "MORSE_DICT =  { 'A':'.-', 'B':'-...',\r\n",
    "                'C':'-.-.', 'D':'-..', 'E':'.',\r\n",
    "                'F':'..-.', 'G':'--.', 'H':'....',\r\n",
    "                'I':'..', 'J':'.---', 'K':'-.-',\r\n",
    "                'L':'.-..', 'M':'--', 'N':'-.',\r\n",
    "                'O':'---', 'P':'.--.', 'Q':'--.-',\r\n",
    "                'R':'.-.', 'S':'...', 'T':'-',\r\n",
    "                'U':'..-', 'V':'...-', 'W':'.--',\r\n",
    "                'X':'-..-', 'Y':'-.--', 'Z':'--..',\r\n",
    "                '1':'.----', '2':'..---', '3':'...--',\r\n",
    "                '4':'....-', '5':'.....', '6':'-....',\r\n",
    "                '7':'--...', '8':'---..', '9':'----.',\r\n",
    "                '0':'-----', ', ':'--..--', '.':'.-.-.-',\r\n",
    "                '?':'..--..', '/':'-..-.', '-':'-....-',\r\n",
    "                '(':'-.--.', ')':'-.--.-'}\r\n"
   ],
   "outputs": [],
   "metadata": {}
  },
  {
   "cell_type": "code",
   "execution_count": 6,
   "source": [
    "MORSE_CODE_DICT = { 'A':10, 'B':15,\r\n",
    "                    'C':19, 'D':16, 'E':7,\r\n",
    "                    'F':5, 'G':24, 'H':1,\r\n",
    "                    'I':4, 'J':13, 'K':20,\r\n",
    "                    'L':8, 'M':26, 'N':17,\r\n",
    "                    'O':27, 'P':11, 'Q':25,\r\n",
    "                    'R':9, 'S':2, 'T':22,\r\n",
    "                    'U':6, 'V':3, 'W':12,\r\n",
    "                    'X':16, 'Y':21, 'Z':23, '*':14}"
   ],
   "outputs": [],
   "metadata": {}
  },
  {
   "cell_type": "code",
   "execution_count": 10,
   "source": [
    "from binarytree import Node, bst\r\n",
    "\r\n",
    "MORSE_CODE_DICT = { 'A':10, 'B':15,\r\n",
    "                    'C':19, 'D':16, 'E':7,\r\n",
    "                    'F':5, 'G':24, 'H':1,\r\n",
    "                    'I':4, 'J':13, 'K':20,\r\n",
    "                    'L':8, 'M':26, 'N':17,\r\n",
    "                    'O':27, 'P':11, 'Q':25,\r\n",
    "                    'R':9, 'S':2, 'T':22,\r\n",
    "                    'U':6, 'V':3, 'W':12,\r\n",
    "                    'X':16, 'Y':21, 'Z':23, '*':14}\r\n",
    "    \r\n",
    "root = Node(14)\r\n",
    "root.left = Node(7)\r\n",
    "\r\n",
    "root.left.left = Node(4)\r\n",
    "root.left.left.left = Node(2)\r\n",
    "root.left.left.left.left = Node(1)\r\n",
    "root.left.left.left.right = Node(3)\r\n",
    "root.left.left.right = Node(6)\r\n",
    "root.left.left.right.left = Node(5)\r\n",
    "root.left.right = Node(10)\r\n",
    "root.left.right.left = Node(9)\r\n",
    "root.left.right.left = Node(8)\r\n",
    "root.left.right.right = Node(12)\r\n",
    "root.left.right.right.left = Node(11)\r\n",
    "root.left.right.right.right = Node(13)\r\n",
    "\r\n",
    "root.right = Node(E)\r\n",
    "root.right.left = Node(18)\r\n",
    "root.right.left.left = Node(16)\r\n",
    "root.right.left.left.left = Node(15)\r\n",
    "root.right.left.left.right = Node(17)\r\n",
    "root.right.left.right = Node(20)\r\n",
    "root.right.left.right.left = Node(19)\r\n",
    "root.right.left.right.right = Node(21)\r\n",
    "root.right.right = Node(26)\r\n",
    "root.right.right.left = Node(24)\r\n",
    "root.right.right.left.left = Node(23)\r\n",
    "root.right.right.left.right = Node(25)\r\n",
    "root.right.right.right = Node(27)\r\n",
    "\r\n",
    "print(root)\r\n",
    "print(root.is_bst)\r\n"
   ],
   "outputs": [
    {
     "output_type": "stream",
     "name": "stdout",
     "text": [
      "\n",
      "              ______________14_____________________\n",
      "             /                                     \\\n",
      "        ____7__                           __________22_________\n",
      "       /       \\                         /                     \\\n",
      "    __4__       10___               ____18___               ____26\n",
      "   /     \\     /     \\             /         \\             /      \\\n",
      "  2       6   8      _12         _16         _20         _24       27\n",
      " / \\     /          /   \\       /   \\       /   \\       /   \\\n",
      "1   3   5          11    13    15    17    19    21    23    25\n",
      "\n",
      "True\n"
     ]
    }
   ],
   "metadata": {}
  },
  {
   "cell_type": "code",
   "execution_count": 11,
   "source": [
    "def decode(message):\r\n",
    "   lettres = message.split(\" \")        # Le message est découpé par lettre à chaque espace (lettres est une liste)\r\n",
    "   message_decode = \"\"                 # initialisation d'une chaine de caractères vides (pour le message décodé)\r\n",
    "\r\n",
    "   for lettre in lettres:              # Parcours de chaque du message codé\r\n",
    "      noeud = root                     # Début du parcours à la racine\r\n",
    "      for symbole in lettre:           # Pour chaque caractère (. ou -) du code morse\r\n",
    "         if symbole == \".\":            # on détermine si on parcours l'arbre à gauche ou à droite\r\n",
    "            noeud = noeud.left\r\n",
    "         else:\r\n",
    "            noeud = noeud.right\r\n",
    "\r\n",
    "      for clé, valeur in MORSE_CODE_DICT.items():  # On a obtenu un noeud correspondant à la lettre de l'alphabet.\r\n",
    "         if noeud.value == valeur:                 # On recherche la lettre correspondant à la valeur du noeud obtenu\r\n",
    "            message_decode += clé                  # On ajoute la lettre au message décodé\r\n",
    "   return message_decode\r\n",
    "\r\n",
    "decode(\"... --- ...\")"
   ],
   "outputs": [
    {
     "output_type": "stream",
     "name": "stdout",
     "text": [
      "2\n",
      "27\n",
      "2\n"
     ]
    },
    {
     "output_type": "execute_result",
     "data": {
      "text/plain": [
       "'SOS'"
      ]
     },
     "metadata": {},
     "execution_count": 11
    }
   ],
   "metadata": {}
  }
 ],
 "metadata": {
  "interpreter": {
   "hash": "b3ba2566441a7c06988d0923437866b63cedc61552a5af99d1f4fb67d367b25f"
  },
  "kernelspec": {
   "name": "python3",
   "display_name": "Python 3.8.8 64-bit ('base': conda)"
  },
  "language_info": {
   "codemirror_mode": {
    "name": "ipython",
    "version": 3
   },
   "file_extension": ".py",
   "mimetype": "text/x-python",
   "name": "python",
   "nbconvert_exporter": "python",
   "pygments_lexer": "ipython3",
   "version": "3.8.8"
  },
  "orig_nbformat": 4
 },
 "nbformat": 4,
 "nbformat_minor": 2
}