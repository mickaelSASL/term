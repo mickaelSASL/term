{
 "cells": [
  {
   "cell_type": "code",
   "execution_count": 6,
   "source": [
    "from binarytree import tree, bst, heap\r\n",
    "\r\n",
    "# Créer un Arbre de Binaire aléatoirement et renvoie sa racine.\r\n",
    "my_tree = tree(height=3, is_perfect=False)\r\n",
    "\r\n",
    "# Créer un Arbre de Binaire de Recherche aléatoirement et renvoie sa racine.\r\n",
    "my_bst = bst(height=3, is_perfect=True)"
   ],
   "outputs": [],
   "metadata": {}
  },
  {
   "cell_type": "code",
   "execution_count": 7,
   "source": [
    "# Pretty-print the trees in stdout.\r\n",
    "print(my_tree)"
   ],
   "outputs": [
    {
     "output_type": "stream",
     "name": "stdout",
     "text": [
      "\n",
      "    _____12____\n",
      "   /           \\\n",
      "  7__         __14__\n",
      " /   \\       /      \\\n",
      "6     10    0        2\n",
      "     /       \\      / \\\n",
      "    3         1    4   13\n",
      "\n"
     ]
    }
   ],
   "metadata": {}
  },
  {
   "cell_type": "code",
   "execution_count": 8,
   "source": [
    "print(my_bst)"
   ],
   "outputs": [
    {
     "output_type": "stream",
     "name": "stdout",
     "text": [
      "\n",
      "        ______7_______\n",
      "       /              \\\n",
      "    __3__           ___11___\n",
      "   /     \\         /        \\\n",
      "  1       5       9         _13\n",
      " / \\     / \\     / \\       /   \\\n",
      "0   2   4   6   8   10    12    14\n",
      "\n"
     ]
    }
   ],
   "metadata": {}
  }
 ],
 "metadata": {
  "orig_nbformat": 4,
  "language_info": {
   "name": "python",
   "version": "3.8.8",
   "mimetype": "text/x-python",
   "codemirror_mode": {
    "name": "ipython",
    "version": 3
   },
   "pygments_lexer": "ipython3",
   "nbconvert_exporter": "python",
   "file_extension": ".py"
  },
  "kernelspec": {
   "name": "python3",
   "display_name": "Python 3.8.8 64-bit ('base': conda)"
  },
  "interpreter": {
   "hash": "b3ba2566441a7c06988d0923437866b63cedc61552a5af99d1f4fb67d367b25f"
  }
 },
 "nbformat": 4,
 "nbformat_minor": 2
}