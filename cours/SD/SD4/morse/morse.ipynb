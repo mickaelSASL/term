{
 "cells": [
  {
   "cell_type": "code",
   "execution_count": 5,
   "metadata": {},
   "outputs": [],
   "source": [
    "MORSE_CODE_DICT = { 'A':'.-', 'B':'-...',\n",
    "                    'C':'-.-.', 'D':'-..', 'E':'.',\n",
    "                    'F':'..-.', 'G':'--.', 'H':'....',\n",
    "                    'I':'..', 'J':'.---', 'K':'-.-',\n",
    "                    'L':'.-..', 'M':'--', 'N':'-.',\n",
    "                    'O':'---', 'P':'.--.', 'Q':'--.-',\n",
    "                    'R':'.-.', 'S':'...', 'T':'-',\n",
    "                    'U':'..-', 'V':'...-', 'W':'.--',\n",
    "                    'X':'-..-', 'Y':'-.--', 'Z':'--..',\n",
    "                    '1':'.----', '2':'..---', '3':'...--',\n",
    "                    '4':'....-', '5':'.....', '6':'-....',\n",
    "                    '7':'--...', '8':'---..', '9':'----.',\n",
    "                    '0':'-----', ', ':'--..--', '.':'.-.-.-',\n",
    "                    '?':'..--..', '/':'-..-.', '-':'-....-',\n",
    "                    '(':'-.--.', ')':'-.--.-'}\n"
   ]
  },
  {
   "cell_type": "code",
   "execution_count": 4,
   "metadata": {},
   "outputs": [
    {
     "name": "stdout",
     "output_type": "stream",
     "text": [
      "('A', 10)\n",
      "('B', 14)\n",
      "('C', 18)\n",
      "('D', 15)\n",
      "('E', 7)\n",
      "('F', 5)\n",
      "('G', 23)\n",
      "('H', 1)\n",
      "('I', 4)\n",
      "('J', 13)\n",
      "('K', 19)\n",
      "('L', 8)\n",
      "('M', 25)\n",
      "('N', 17)\n",
      "('O', 26)\n",
      "('P', 11)\n",
      "('Q', 24)\n",
      "('R', 9)\n",
      "('S', 2)\n",
      "('T', 21)\n",
      "('U', 6)\n",
      "('V', 3)\n",
      "('W', 12)\n",
      "('X', 16)\n",
      "('Y', 20)\n",
      "('Z', 22)\n"
     ]
    }
   ],
   "source": [
    "for i in MORSE_CODE_DICT.items():\n",
    "    print(i)"
   ]
  },
  {
   "cell_type": "code",
   "execution_count": 6,
   "metadata": {},
   "outputs": [],
   "source": [
    "MORSE_CODE_DICT = { 'A':10, 'B':14,\n",
    "                    'C':18, 'D':15, 'E':7,\n",
    "                    'F':5, 'G':23, 'H':1,\n",
    "                    'I':4, 'J':13, 'K':19,\n",
    "                    'L':8, 'M':25, 'N':17,\n",
    "                    'O':26, 'P':11, 'Q':24,\n",
    "                    'R':9, 'S':2, 'T':21,\n",
    "                    'U':6, 'V':3, 'W':12,\n",
    "                    'X':16, 'Y':20, 'Z':22}"
   ]
  },
  {
   "cell_type": "code",
   "execution_count": null,
   "metadata": {},
   "outputs": [],
   "source": [
    "from binarytree import Node, bst\n",
    "\n",
    "MORSE_CODE_DICT = { 'A':10, 'B':15,\n",
    "                    'C':19, 'D':16, 'E':7,\n",
    "                    'F':5, 'G':24, 'H':1,\n",
    "                    'I':4, 'J':13, 'K':20,\n",
    "                    'L':8, 'M':26, 'N':17,\n",
    "                    'O':26, 'P':11, 'Q':24,\n",
    "                    'R':9, 'S':2, 'T':21,\n",
    "                    'U':6, 'V':3, 'W':12,\n",
    "                    'X':16, 'Y':20, 'Z':22}\n",
    "\n",
    "    \n",
    "root = Node(14)\n",
    "root.left = Node(7)\n",
    "\n",
    "root.left.left = Node(4)\n",
    "root.left.left.left = Node(2)\n",
    "root.left.left.left.left = Node(1)\n",
    "root.left.left.left.right = Node(3)\n",
    "root.left.left.right = Node(6)\n",
    "root.left.left.right.left = Node(5)\n",
    "root.left.right = Node(10)\n",
    "root.left.right.left = Node(9)\n",
    "root.left.right.left = Node(8)\n",
    "root.left.right.right = Node(12)\n",
    "root.left.right.right.left = Node(11)\n",
    "root.left.right.right.right = Node(13)\n",
    "\n",
    "root.right = Node(22)\n",
    "root.right.left = Node(18)\n",
    "root.right.left.left = Node(16)\n",
    "root.right.left.left.left = Node(15)\n",
    "root.right.left.left.right = Node(17)\n",
    "root.right.left.right = Node(20)\n",
    "root.right.left.right.left = Node(19)\n",
    "root.right.left.right.right = Node(21)\n",
    "root.right.right = Node(26)\n",
    "root.right.right.left = Node(24)\n",
    "root.right.right.left.left = Node(23)\n",
    "root.right.right.left.right = Node(25)\n",
    "root.right.right.right = Node(27)\n",
    "\n",
    "print(root)\n",
    "print(root.is_bst)\n"
   ]
  }
 ],
 "metadata": {
  "interpreter": {
   "hash": "97ae724bfa85b9b34df7982b8bb8c7216f435b92902d749e4263f71162bea840"
  },
  "kernelspec": {
   "display_name": "Python 3.8.8 64-bit ('base': conda)",
   "language": "python",
   "name": "python3"
  },
  "language_info": {
   "codemirror_mode": {
    "name": "ipython",
    "version": 3
   },
   "file_extension": ".py",
   "mimetype": "text/x-python",
   "name": "python",
   "nbconvert_exporter": "python",
   "pygments_lexer": "ipython3",
   "version": "3.8.8"
  },
  "orig_nbformat": 4
 },
 "nbformat": 4,
 "nbformat_minor": 2
}
