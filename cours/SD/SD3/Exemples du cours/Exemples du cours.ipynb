{
 "cells": [
  {
   "cell_type": "markdown",
   "source": [
    "# Exemples du cours\r\n",
    "## B.\tLES PILES ET LES FILES\r\n",
    "### 1.\tLes piles"
   ],
   "metadata": {}
  },
  {
   "cell_type": "code",
   "execution_count": null,
   "source": [
    "class PileVide(Exception):\r\n",
    "    \"\"\"\r\n",
    "    extraction à partir d'une pile vide\r\n",
    "    \"\"\"\r\n",
    "    pass\r\n",
    " \r\n",
    "class Pile:\r\n",
    "    def __init__(self):\r\n",
    "        self.memoire = []\r\n",
    "        self.taille = 0\r\n",
    "        \r\n",
    "    def estVide(self):\r\n",
    "        return self.taille == 0\r\n",
    "    \r\n",
    "    def empiler(self,x):\r\n",
    "        \r\n",
    "\r\n",
    "        return None\r\n",
    "    \r\n",
    "    def depiler(self):\r\n",
    "        if self.taille == 0:\r\n",
    "            raise PileVide\r\n",
    "        else:\r\n",
    "            x = self.memoire.pop()\r\n",
    "            self.taille -= 1\r\n",
    "            return x\r\n"
   ],
   "outputs": [],
   "metadata": {
    "hide_input": false
   }
  },
  {
   "cell_type": "markdown",
   "source": [
    "### 2.\tLes Files"
   ],
   "metadata": {}
  },
  {
   "cell_type": "code",
   "execution_count": null,
   "source": [
    "class FileVide(Exception):\n",
    "    \"\"\"\n",
    "    extraction à partir d'une file vide\n",
    "    \"\"\"\n",
    "    pass\n",
    "\n",
    "class File:\n",
    "    def __init__(self):\n",
    "        self.pA = Pile()\n",
    "        self.pB = Pile()\n",
    "        self.taille = 0\n",
    "\n",
    "def estVide(self):\n",
    "    return self.taille == 0\n",
    "\n",
    "def enfiler(self,x):\n",
    "    \n",
    "    \n",
    "    return None\n",
    "\n",
    "def defiler(self):\n",
    "    \n",
    "    \n",
    "…\n",
    "\n",
    "            \n",
    "    \n",
    "    \n",
    "    return x\n"
   ],
   "outputs": [],
   "metadata": {}
  }
 ],
 "metadata": {
  "kernelspec": {
   "display_name": "Python 3",
   "language": "python",
   "name": "python3"
  },
  "language_info": {
   "codemirror_mode": {
    "name": "ipython",
    "version": 3
   },
   "file_extension": ".py",
   "mimetype": "text/x-python",
   "name": "python",
   "nbconvert_exporter": "python",
   "pygments_lexer": "ipython3",
   "version": "3.7.4"
  }
 },
 "nbformat": 4,
 "nbformat_minor": 2
}