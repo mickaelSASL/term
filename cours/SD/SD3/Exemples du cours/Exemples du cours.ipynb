{
 "cells": [
  {
   "cell_type": "markdown",
   "metadata": {},
   "source": [
    "# Exemples du cours[![Binder](https://mybinder.org/badge_logo.svg)][def]  \n",
    "## B.\tLES PILES ET LES FILES\n",
    "### 1.\tLes piles\n",
    "\n",
    "[def]: https://mybinder.org/v2/gh/mickaelSASL/term/caf83e26b5bbc499e9aae494f411979453585d97?urlpath=lab%2Ftree%2Fcours%2FSD%2FSD3%2FExemples%20du%20cours%2FExemples%20du%20cours.ipynb"
   ]
  },
  {
   "cell_type": "code",
   "execution_count": null,
   "metadata": {
    "hide_input": false
   },
   "outputs": [],
   "source": [
    "class PileVide(Exception):\n",
    "    \"\"\"\n",
    "    extraction à partir d'une pile vide\n",
    "    \"\"\"\n",
    "    pass\n",
    " \n",
    "class Pile:\n",
    "    def __init__(self):\n",
    "        self.memoire = []\n",
    "        self.taille = 0\n",
    "    \n",
    "    def affiche(self):\n",
    "        print(self.memoire)\n",
    "        \n",
    "    def estVide(self):\n",
    "        return self.taille == 0\n",
    "    \n",
    "    def empiler(self,x):\n",
    "        \n",
    "\n",
    "        return None\n",
    "    \n",
    "    def depiler(self):\n",
    "        if self.taille == 0:\n",
    "            raise PileVide\n",
    "        else:\n",
    "            x = self.memoire.pop()\n",
    "            self.taille -= 1\n",
    "            return x\n"
   ]
  },
  {
   "cell_type": "code",
   "execution_count": null,
   "metadata": {},
   "outputs": [],
   "source": [
    "p = Pile()              # Création d'un pile p\n",
    "p.empiler(3)            # empiler\n",
    "p.empiler(5)\n",
    "p.affiche()             #Afficher le contenue de la pile p\n",
    "valeur = p.depiler()    # depiler\n",
    "print(valeur)           # afficher la valeur dépilée  \n",
    "p.affiche()             # afficher le contenu de la pile p\n",
    "print(p.estVide())      # pile vide ?\n",
    "p.depiler()             # dépiler\n",
    "print(p.estVide())      # pile vide ?"
   ]
  },
  {
   "cell_type": "markdown",
   "metadata": {},
   "source": [
    "### 2.\tLes Files"
   ]
  },
  {
   "cell_type": "code",
   "execution_count": null,
   "metadata": {},
   "outputs": [],
   "source": [
    "class FileVide(Exception):\n",
    "    \"\"\"\n",
    "    extraction à partir d'une file vide\n",
    "    \"\"\"\n",
    "    pass\n",
    "\n",
    "class File:\n",
    "    def __init__(self):\n",
    "        self.pA = Pile()\n",
    "        self.pB = Pile()\n",
    "        self.taille = 0\n",
    "\n",
    "    def affiche(self):\n",
    "        a = self.pA.memoire\n",
    "        a.reverse()\n",
    "        print(a+ self.pB.memoire)\n",
    "\n",
    "    def estVide(self):\n",
    "        return self.taille == 0\n",
    "\n",
    "    def enfiler(self,x):\n",
    "        \n",
    "        \n",
    "        return None\n",
    "\n",
    "    def defiler(self):\n",
    "        \n",
    "        \n",
    "    …\n",
    "\n",
    "                \n",
    "        \n",
    "        \n",
    "        return x\n"
   ]
  },
  {
   "cell_type": "code",
   "execution_count": null,
   "metadata": {},
   "outputs": [],
   "source": [
    "f = File()              # Création d'un file f\n",
    "f.enfiler(3)            # enfiler\n",
    "f.enfiler(5)\n",
    "f.affiche()             # Afficher le contenue de la file f\n",
    "valeur = f.defiler()    # défiler\n",
    "print(valeur)           # afficher la valeur défilée  \n",
    "f.affiche()             # afficher le contenu de la file f\n",
    "print(f.estVide())      # file vide ?\n",
    "f.defiler()             # défiler\n",
    "print(f.estVide())      # file vide ?"
   ]
  }
 ],
 "metadata": {
  "kernelspec": {
   "display_name": "Python 3",
   "language": "python",
   "name": "python3"
  },
  "language_info": {
   "codemirror_mode": {
    "name": "ipython",
    "version": 3
   },
   "file_extension": ".py",
   "mimetype": "text/x-python",
   "name": "python",
   "nbconvert_exporter": "python",
   "pygments_lexer": "ipython3",
   "version": "3.7.4"
  }
 },
 "nbformat": 4,
 "nbformat_minor": 2
}
