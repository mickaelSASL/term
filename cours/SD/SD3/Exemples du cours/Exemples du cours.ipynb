{
 "cells": [
  {
   "cell_type": "markdown",
   "source": [
    "# Exemples du cours[![Binder](https://mybinder.org/badge_logo.svg)](https://mybinder.org/v2/gh/mickaelSASL/term/caf83e26b5bbc499e9aae494f411979453585d97?urlpath=lab%2Ftree%2Fcours%2FSD%2FSD3%2FExemples%20du%20cours%2FExemples%20du%20cours.ipynb)\r\n",
    "## B.\tLES PILES ET LES FILES\r\n",
    "### 1.\tLes piles"
   ],
   "metadata": {}
  },
  {
   "cell_type": "code",
   "execution_count": null,
   "source": [
    "class PileVide(Exception):\r\n",
    "    \"\"\"\r\n",
    "    extraction à partir d'une pile vide\r\n",
    "    \"\"\"\r\n",
    "    pass\r\n",
    " \r\n",
    "class Pile:\r\n",
    "    def __init__(self):\r\n",
    "        self.memoire = []\r\n",
    "        self.taille = 0\r\n",
    "        \r\n",
    "    def estVide(self):\r\n",
    "        return self.taille == 0\r\n",
    "    \r\n",
    "    def empiler(self,x):\r\n",
    "        \r\n",
    "\r\n",
    "        return None\r\n",
    "    \r\n",
    "    def depiler(self):\r\n",
    "        if self.taille == 0:\r\n",
    "            raise PileVide\r\n",
    "        else:\r\n",
    "            x = self.memoire.pop()\r\n",
    "            self.taille -= 1\r\n",
    "            return x\r\n"
   ],
   "outputs": [],
   "metadata": {
    "hide_input": false
   }
  },
  {
   "cell_type": "markdown",
   "source": [
    "### 2.\tLes Files"
   ],
   "metadata": {}
  },
  {
   "cell_type": "code",
   "execution_count": null,
   "source": [
    "class FileVide(Exception):\r\n",
    "    \"\"\"\r\n",
    "    extraction à partir d'une file vide\r\n",
    "    \"\"\"\r\n",
    "    pass\r\n",
    "\r\n",
    "class File:\r\n",
    "    def __init__(self):\r\n",
    "        self.pA = Pile()\r\n",
    "        self.pB = Pile()\r\n",
    "        self.taille = 0\r\n",
    "\r\n",
    "def estVide(self):\r\n",
    "    return self.taille == 0\r\n",
    "\r\n",
    "def enfiler(self,x):\r\n",
    "    \r\n",
    "    \r\n",
    "    return None\r\n",
    "\r\n",
    "def defiler(self):\r\n",
    "    \r\n",
    "    \r\n",
    "…\r\n",
    "\r\n",
    "            \r\n",
    "    \r\n",
    "    \r\n",
    "    return x\r\n"
   ],
   "outputs": [],
   "metadata": {}
  }
 ],
 "metadata": {
  "kernelspec": {
   "display_name": "Python 3",
   "language": "python",
   "name": "python3"
  },
  "language_info": {
   "codemirror_mode": {
    "name": "ipython",
    "version": 3
   },
   "file_extension": ".py",
   "mimetype": "text/x-python",
   "name": "python",
   "nbconvert_exporter": "python",
   "pygments_lexer": "ipython3",
   "version": "3.7.4"
  }
 },
 "nbformat": 4,
 "nbformat_minor": 2
}