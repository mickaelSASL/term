{
 "cells": [
  {
   "cell_type": "markdown",
   "metadata": {},
   "source": [
    "# SD3 - Structures de données linéaires\n",
    "## B.\tLES PILES ET LES FILES\n",
    "### 1.\tLes piles"
   ]
  },
  {
   "cell_type": "code",
   "execution_count": null,
   "metadata": {
    "hide_input": false
   },
   "outputs": [],
   "source": [
    "class PileVide(Exception):\n",
    "    \"\"\"\n",
    "    extraction à partir d'une pile vide\n",
    "    \"\"\"\n",
    "    pass\n",
    " \n",
    "class Pile:\n",
    "    def __init__(self):\n",
    "        self.memoire = []\n",
    "        self.taille = 0\n",
    "        \n",
    "    def estVide(self):\n",
    "        return self.taille == 0\n",
    "    \n",
    "    def empiler(self,x):\n",
    "        \n",
    "\n",
    "        return None\n",
    "    \n",
    "    def depiler(self):\n",
    "        if self.taille == 0:\n",
    "            raise PileVide\n",
    "        else:\n",
    "            x = self.memoire.pop()\n",
    "            self.taille -= 1\n",
    "            return x\n"
   ]
  },
  {
   "cell_type": "markdown",
   "metadata": {},
   "source": [
    "### 2.\tLes Files"
   ]
  },
  {
   "cell_type": "code",
   "execution_count": null,
   "metadata": {},
   "outputs": [],
   "source": [
    "class FileVide(Exception):\n",
    "    \"\"\"\n",
    "    extraction à partir d'une file vide\n",
    "    \"\"\"\n",
    "    pass\n",
    "\n",
    "class File:\n",
    "    def __init__(self):\n",
    "        self.pA = Pile()\n",
    "        self.pB = Pile()\n",
    "        self.taille = 0\n",
    "\n",
    "def estVide(self):\n",
    "    return self.taille == 0\n",
    "\n",
    "def enfiler(self,x):\n",
    "    \n",
    "    \n",
    "    return None\n",
    "\n",
    "def defiler(self):\n",
    "    \n",
    "    \n",
    "…\n",
    "\n",
    "            \n",
    "    \n",
    "    \n",
    "    return x\n"
   ]
  }
 ],
 "metadata": {
  "kernelspec": {
   "display_name": "Python 3",
   "language": "python",
   "name": "python3"
  },
  "language_info": {
   "codemirror_mode": {
    "name": "ipython",
    "version": 3
   },
   "file_extension": ".py",
   "mimetype": "text/x-python",
   "name": "python",
   "nbconvert_exporter": "python",
   "pygments_lexer": "ipython3",
   "version": "3.7.4"
  }
 },
 "nbformat": 4,
 "nbformat_minor": 2
}
