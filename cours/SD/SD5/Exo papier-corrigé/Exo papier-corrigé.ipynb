{
 "cells": [
  {
   "cell_type": "markdown",
   "metadata": {},
   "source": [
    "# Exercice 1\n",
    "\n",
    "# 1)\n",
    "\n",
    "## Liste des voisins\n",
    "\n",
    "A : B, C  \n",
    "B : A, B, D  \n",
    "C : A, D, F  \n",
    "D : B, C, F  \n",
    "E :   \n",
    "F : C, D  \n",
    "\n",
    "## Matrice d'adjacence\n",
    "\n",
    "Liste des sommets = (A, B, C, D, E, F)\n",
    "\n",
    "Matrice =\n",
    "\n",
    "0 1 1 0 0 0  \n",
    "1 1 0 1 0 0   \n",
    "1 0 0 1 0 1   \n",
    "0 1 1 0 0 1   \n",
    "0 0 0 0 0 0   \n",
    "0 0 1 1 0 0 \n",
    "___"
   ]
  },
  {
   "cell_type": "markdown",
   "metadata": {},
   "source": [
    "# 2) \n",
    "\n",
    "## Tableau des successeurs\n",
    "\n",
    "A : B, F  \n",
    "B : C  \n",
    "C : D, E  \n",
    "D : E  \n",
    "E : B  \n",
    "F : A, E  \n",
    "\n",
    "## Matrice d'adjacence\n",
    "Liste des sommets : (A, B, C, D, E, F)\n",
    "\n",
    "Matrice :\n",
    "\n",
    "0 , 1 , 0 , 0 , 0 , 1  \n",
    "0 , 0 , 1 , 0 , 0 , 0  \n",
    "0 , 0 , 0 , 1 , 1 , 0  \n",
    "0 , 1 , 0 , 0 , 1 , 0  \n",
    "0 , 1 , 0 , 0 , 0 , 0  \n",
    "1 , 0 , 0 , 0 , 1 , 0  \n",
    "___"
   ]
  },
  {
   "cell_type": "markdown",
   "metadata": {},
   "source": [
    "# 3) ![Ex1-3](../img/Ex1-3.png)\n",
    "\n",
    "## Matrice d'adjacence\n",
    "\n",
    "0, 1, 0, 1, 0  \n",
    "1, 0, 1, 0, 0  \n",
    "0, 0, 0, 1, 0  \n",
    "0, 0, 1, 0, 1  \n",
    "0, 1, 0, 0, 1  \n",
    "___"
   ]
  },
  {
   "cell_type": "markdown",
   "metadata": {},
   "source": [
    "# 4)\n",
    "![Ex1-4](../img/Ex1-4.png)\n",
    "\n",
    "## Matrice dadjacence\n",
    "\n",
    "0, 1, 0, 0, 0   \n",
    "1, 0, 0, 0, 1   \n",
    "0, 1, 0, 1, 0   \n",
    "1, 0, 1, 0, 0   \n",
    "0, 0, 0, 1, 1   \n",
    "___"
   ]
  },
  {
   "cell_type": "markdown",
   "metadata": {},
   "source": [
    "# 5)\n",
    "![Ex1-5](../img/Ex1-5.png)\n",
    "\n",
    "## Liste des successeurs\n",
    "\n",
    "A : E  \n",
    "B : C, F  \n",
    "C : A, C  \n",
    "D : B, F  \n",
    "E : C  \n",
    "F : A, D   \n",
    "___"
   ]
  },
  {
   "cell_type": "markdown",
   "metadata": {},
   "source": [
    "# 6)\n",
    "![Ex1-6](../img/Ex1-6.png)\n",
    "\n",
    "## Liste des prédecesseurs\n",
    "\n",
    "A : E  \n",
    "B : A, C  \n",
    "C : B  \n",
    "D : C  \n",
    "E : B   \n",
    "___"
   ]
  }
 ],
 "metadata": {
  "kernelspec": {
   "display_name": "Python 3",
   "language": "python",
   "name": "python3"
  },
  "language_info": {
   "codemirror_mode": {
    "name": "ipython",
    "version": 3
   },
   "file_extension": ".py",
   "mimetype": "text/x-python",
   "name": "python",
   "nbconvert_exporter": "python",
   "pygments_lexer": "ipython3",
   "version": "3.7.4"
  }
 },
 "nbformat": 4,
 "nbformat_minor": 2
}
