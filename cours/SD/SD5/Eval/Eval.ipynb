{
 "cells": [
  {
   "attachments": {},
   "cell_type": "markdown",
   "metadata": {},
   "source": [
    "# Exercice 1\n",
    "\n",
    "![](../img/eval1.png)\n",
    "\n",
    "<i><center>Graphe 1</center></i>\n",
    "\n",
    "Donner la table des voisins et la matrice d'adjacence du graphe 1."
   ]
  },
  {
   "attachments": {},
   "cell_type": "markdown",
   "metadata": {},
   "source": [
    "# Exercice 2\n",
    "\n",
    "Tacer le graphe et la matrice d'adjacence.\n",
    "\n",
    "|   Sommets   |    A   |   B  |   C  |   D  | E |\n",
    "|:------------|:------:|:----:|:----:|:----:|:-:|\n",
    "| Successeurs |  C, D  | C, D | E, B | C, E |   |\n",
    "\n",
    "![](../img/eval2.png)"
   ]
  },
  {
   "cell_type": "code",
   "execution_count": null,
   "metadata": {},
   "outputs": [],
   "source": []
  }
 ],
 "metadata": {
  "kernelspec": {
   "display_name": "Python 3",
   "language": "python",
   "name": "python3"
  },
  "language_info": {
   "codemirror_mode": {
    "name": "ipython",
    "version": 3
   },
   "file_extension": ".py",
   "mimetype": "text/x-python",
   "name": "python",
   "nbconvert_exporter": "python",
   "pygments_lexer": "ipython3",
   "version": "3.8.8"
  }
 },
 "nbformat": 4,
 "nbformat_minor": 2
}
