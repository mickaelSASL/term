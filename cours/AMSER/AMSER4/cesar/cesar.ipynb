{
 "cells": [
  {
   "cell_type": "markdown",
   "metadata": {},
   "source": [
    "# Codage de césar - Corrigé"
   ]
  },
  {
   "cell_type": "markdown",
   "metadata": {},
   "source": [
    "`m` et `k` sont définis pour réaliser les tests."
   ]
  },
  {
   "cell_type": "code",
   "execution_count": 6,
   "metadata": {},
   "outputs": [],
   "source": [
    "m = 'message testé'\n",
    "k = 5"
   ]
  },
  {
   "cell_type": "markdown",
   "metadata": {},
   "source": [
    "## 1) Création d'une liste contenant l'alphabet\n",
    "La liste `alphabet = ['A', 'B', ... 'Z']` est créée avec une liste par compréhension."
   ]
  },
  {
   "cell_type": "code",
   "execution_count": 7,
   "metadata": {},
   "outputs": [],
   "source": [
    "alphabet = [chr(i) for i in range(65,91)]"
   ]
  },
  {
   "cell_type": "code",
   "execution_count": 8,
   "metadata": {},
   "outputs": [
    {
     "name": "stdout",
     "output_type": "stream",
     "text": [
      "['A', 'B', 'C', 'D', 'E', 'F', 'G', 'H', 'I', 'J', 'K', 'L', 'M', 'N', 'O', 'P', 'Q', 'R', 'S', 'T', 'U', 'V', 'W', 'X', 'Y', 'Z']\n"
     ]
    }
   ],
   "source": [
    "print(alphabet)"
   ]
  },
  {
   "cell_type": "markdown",
   "metadata": {},
   "source": [
    "Cette écriture est équivalente à :  \n",
    "``` python\n",
    "alphabet = []\n",
    "for i in range(65, 91):\n",
    "    alphabet.append(chr(i))\n",
    "```"
   ]
  },
  {
   "cell_type": "markdown",
   "metadata": {},
   "source": [
    "## 2) Création d'une liste contenant l'alphabet décalé de `k`"
   ]
  },
  {
   "cell_type": "markdown",
   "metadata": {},
   "source": [
    "Recopie par liste par compréhension.   \n",
    "`alphabet_code = alphabet` ne fonctionne pas ! : les valeurs des 2 listes correspondent aux mêmes emplacements mémoire. La modification d'une liste entraine la modification de la deuxième."
   ]
  },
  {
   "cell_type": "code",
   "execution_count": 9,
   "metadata": {},
   "outputs": [],
   "source": [
    "# Copie de l'alphabet dans l'odre\n",
    "alphabet_code = [l for l in alphabet]"
   ]
  },
  {
   "cell_type": "code",
   "execution_count": 10,
   "metadata": {},
   "outputs": [
    {
     "name": "stdout",
     "output_type": "stream",
     "text": [
      "['A', 'B', 'C', 'D', 'E', 'F', 'G', 'H', 'I', 'J', 'K', 'L', 'M', 'N', 'O', 'P', 'Q', 'R', 'S', 'T', 'U', 'V', 'W', 'X', 'Y', 'Z']\n"
     ]
    }
   ],
   "source": [
    "print(alphabet_code)"
   ]
  },
  {
   "cell_type": "markdown",
   "metadata": {},
   "source": [
    "La liste `alphabet_code` est ensuite décalée de `k`."
   ]
  },
  {
   "cell_type": "code",
   "execution_count": 11,
   "metadata": {},
   "outputs": [],
   "source": [
    "# pour ensuite le décaler suivant la clé fournie    \n",
    "for i in range(k):\n",
    "    alphabet_code.append(alphabet_code.pop(0))"
   ]
  },
  {
   "cell_type": "code",
   "execution_count": 12,
   "metadata": {},
   "outputs": [
    {
     "name": "stdout",
     "output_type": "stream",
     "text": [
      "['F', 'G', 'H', 'I', 'J', 'K', 'L', 'M', 'N', 'O', 'P', 'Q', 'R', 'S', 'T', 'U', 'V', 'W', 'X', 'Y', 'Z', 'A', 'B', 'C', 'D', 'E']\n"
     ]
    }
   ],
   "source": [
    "print(alphabet_code)"
   ]
  },
  {
   "cell_type": "markdown",
   "metadata": {},
   "source": [
    "## 3) Codage \n",
    "Pour chaque lettre de `m`:     \n",
    "* On recherchant la position de la lettre de départ dans alphabet. \n",
    "* Puis on récupére la nouvelle lettre à la même position dans alphabet_code."
   ]
  },
  {
   "cell_type": "code",
   "execution_count": null,
   "metadata": {},
   "outputs": [],
   "source": [
    "m_code=''    \n",
    "for l in m:\n",
    "    if l == ' ':                # Pas de changement pour les espaces\n",
    "        m_code = m_code + ' '\n",
    "    else:\n",
    "        m_code = m_code + alphabet_code[alphabet.index(l)]\n",
    "\n",
    "return m_code"
   ]
  },
  {
   "cell_type": "markdown",
   "metadata": {},
   "source": [
    "Si le caractère est un espace, il est ignoré."
   ]
  },
  {
   "cell_type": "markdown",
   "metadata": {},
   "source": [
    "## Les fonctions `c_cesar(m, k)` et `d_csear(m, k)` complètes :"
   ]
  },
  {
   "cell_type": "code",
   "execution_count": 13,
   "metadata": {},
   "outputs": [],
   "source": [
    "def c_cesar(m, k):\n",
    "    \"\"\"\n",
    "    Codage de César\n",
    "    \n",
    "    Parameters\n",
    "    ----------\n",
    "    m : str\n",
    "        phrase à coder (uniquement des majuscules et espaces).\n",
    "    k : int\n",
    "        clé de codage (décalage de l'alphabet).\n",
    "\n",
    "    Returns\n",
    "    -------\n",
    "    m_code : str\n",
    "        phrase codée avec la clé k fournie.\n",
    "\n",
    "    \"\"\"\n",
    "    alphabet = [chr(i) for i in range(65,91)]\n",
    "    \n",
    "    # Copie de l'alphabet dans l'odre\n",
    "    alphabet_code = [l for l in alphabet]\n",
    "\n",
    "    # pour ensuite le décaler suivant la clé fournie    \n",
    "    for i in range(k):\n",
    "        alphabet_code.append(alphabet_code.pop(0))\n",
    "\n",
    "    # Codage de la phrase en recherchant la position de la lettre de départ \n",
    "    # dans alphabet. Puis en récupérant la nouvelle lettre à la même position\n",
    "    # dans alphabet_code\n",
    "    \n",
    "    m_code=''    \n",
    "    for l in m:\n",
    "        if l == ' ':                # Pas de changement pour les espaces\n",
    "            m_code = m_code + ' '\n",
    "        else:\n",
    "            m_code = m_code + alphabet_code[alphabet.index(l)]\n",
    "    \n",
    "    return m_code\n",
    "    \n",
    "\n",
    "def d_cesar(m, k):\n",
    "    \"\"\"\n",
    "    Décodage de César\n",
    "    \n",
    "    Parameters\n",
    "    ----------\n",
    "    m : str\n",
    "        phrase à décoder (uniquement des majuscules et espaces).\n",
    "    k : int\n",
    "        clé de décodage (décalage de l'alphabet).\n",
    "\n",
    "    Returns\n",
    "    -------\n",
    "    m_decode : str\n",
    "        phrase décodée avec la clé k fournie.\n",
    "\n",
    "    \"\"\"\n",
    "    # Copie de l'alphabet dans l'odre\n",
    "    alphabet_code = [l for l in alphabet]\n",
    "\n",
    "    # pour ensuite le décaler suivant la clé fournie    \n",
    "    for i in range(k):\n",
    "        alphabet_code.append(alphabet_code.pop(0))\n",
    "\n",
    "    # Décodage de la phrase en recherchant la position de la lettre codée \n",
    "    # dans alphabet_code. Puis en récupérant la nouvelle lettre à la même \n",
    "    # position dans alphabet\n",
    "    \n",
    "    m_decode=''    \n",
    "    for l in m:\n",
    "        if l == ' ':                # Pas de changement pour les espaces\n",
    "            m_decode = m_decode + ' '\n",
    "        else:\n",
    "            m_decode = m_decode + alphabet[alphabet_code.index(l)]\n",
    "    \n",
    "    return m_decode"
   ]
  },
  {
   "cell_type": "code",
   "execution_count": 14,
   "metadata": {},
   "outputs": [
    {
     "name": "stdout",
     "output_type": "stream",
     "text": [
      "NG EQFCIG FG EGUCT\n",
      "LE CODAGE DE CESAR\n"
     ]
    }
   ],
   "source": [
    "print(c_cesar(\"LE CODAGE DE CESAR\", 2))\n",
    "print(d_cesar(\"NG EQFCIG FG EGUCT\",2))"
   ]
  },
  {
   "cell_type": "code",
   "execution_count": null,
   "metadata": {},
   "outputs": [],
   "source": []
  }
 ],
 "metadata": {
  "kernelspec": {
   "display_name": "Python 3",
   "language": "python",
   "name": "python3"
  },
  "language_info": {
   "codemirror_mode": {
    "name": "ipython",
    "version": 3
   },
   "file_extension": ".py",
   "mimetype": "text/x-python",
   "name": "python",
   "nbconvert_exporter": "python",
   "pygments_lexer": "ipython3",
   "version": "3.7.4"
  }
 },
 "nbformat": 4,
 "nbformat_minor": 2
}
