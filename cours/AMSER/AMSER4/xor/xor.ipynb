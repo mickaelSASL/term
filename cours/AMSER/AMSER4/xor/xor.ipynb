{
 "cells": [
  {
   "cell_type": "markdown",
   "metadata": {},
   "source": [
    "# Codage XOR - Corrigé"
   ]
  },
  {
   "cell_type": "markdown",
   "metadata": {},
   "source": [
    "`m` et `k` sont définis pour réaliser les tests."
   ]
  },
  {
   "cell_type": "code",
   "execution_count": 1,
   "metadata": {},
   "outputs": [],
   "source": [
    "m = 'message testé'\n",
    "k = 'CLE'"
   ]
  },
  {
   "cell_type": "markdown",
   "metadata": {},
   "source": [
    "## 1) import de la méthode `xor` du module `operator`"
   ]
  },
  {
   "cell_type": "code",
   "execution_count": 2,
   "metadata": {},
   "outputs": [],
   "source": [
    "from operator import xor"
   ]
  },
  {
   "cell_type": "markdown",
   "metadata": {},
   "source": [
    "## 2) Chiffrement du message `m` avec la clé `k`   \n",
    "Si la clé est plus courte que le message : la clé augmentée sera le début de la clé.   \n",
    "Sinon les caractères de la clé sont répétés jusqu'à ce que la clé augmentée soit de même longueur que le message."
   ]
  },
  {
   "cell_type": "code",
   "execution_count": 3,
   "metadata": {},
   "outputs": [],
   "source": [
    "def c_xor(m, k):\n",
    "    \n",
    "# SI k plus court que m\n",
    "    if len(k) > len(m):\n",
    "# k_aug est le début de k\n",
    "        k_aug = [ord(i) for i in k[:len(m)]] # On stocke directement le code décimal du caractère\n",
    "# SINON\n",
    "    else:\n",
    "        k_aug = []\n",
    "        i = 0\n",
    "# Tant que k_aug plus court que m\n",
    "        while len(m) > len(k_aug):\n",
    "            k_aug.append(ord(k[i]))  # On ajoute le code décimal des caractères de k\n",
    "            i += 1\n",
    "            if i == len(k): i = 0    # Si on a utilisé tous les caractères de k, on recommence au 1er.\n",
    "    \n",
    "    return [chr(xor(ord(m[i]),k_aug[i])) for i in range(len(m))]"
   ]
  },
  {
   "cell_type": "markdown",
   "metadata": {},
   "source": [
    "`return ''.join([chr(xor(ord(m[i]),k_aug[i])) for i in range(len(m))])` renvoie une chaîne de caractère mais les cararctères non imprimables n'apparaissent pas.  \n",
    "\n",
    "La solution est de renvoyer une liste contenant les caractères. Dans ce cas, les caractères non imprimables sont remplacés par un code permettant de les représenter : \n",
    "`return [chr(xor(ord(m[i]),k_aug[i])) for i in range(len(m))]`"
   ]
  },
  {
   "cell_type": "markdown",
   "metadata": {},
   "source": [
    "## 3) Déchiffrement du message `m` avec la clé `k`   \n",
    "\n",
    "Le principe est le même que le chiffrement. \n",
    "La fonction OU Exclusif permet de retrouver la valeur de départ : `0 XOR 1 = 1` --> `0 = 1 XOR 1`.\n"
   ]
  },
  {
   "cell_type": "markdown",
   "metadata": {},
   "source": [
    "## Les fonctions `c_xor(m, k)` et `d_xor(m, k)` complètes :"
   ]
  },
  {
   "cell_type": "code",
   "execution_count": 4,
   "metadata": {},
   "outputs": [],
   "source": [
    "def d_xor(m, k):\n",
    "    if len(k) > len(m):\n",
    "        k_aug = [i for i in k[:len(m)]]\n",
    "    else:\n",
    "        k_aug = []\n",
    "        i = 0\n",
    "        while len(m) > len(k_aug):\n",
    "            k_aug.append(ord(k[i]))\n",
    "            i += 1\n",
    "            if i == len(k): i = 0\n",
    "    \n",
    "    return ''.join([chr(xor(ord(m[i]),k_aug[i])) for i in range(len(m))])"
   ]
  },
  {
   "cell_type": "markdown",
   "metadata": {},
   "source": [
    "La fonction `d_xor()` renvoie une chaîne de caractères. S'agissant du message décodé, il n'y a normalement pas de problèmes de caractères non-imprimables."
   ]
  },
  {
   "cell_type": "code",
   "execution_count": 5,
   "metadata": {},
   "outputs": [],
   "source": [
    "from operator import xor\n",
    "\n",
    "def c_xor(m, k):\n",
    "    if len(k) > len(m):\n",
    "        k_aug = [ord(i) for i in k[:len(m)]]\n",
    "    else:\n",
    "        k_aug = []\n",
    "        i = 0\n",
    "        while len(m) > len(k_aug):\n",
    "            k_aug.append(ord(k[i]))\n",
    "            i += 1\n",
    "            if i == len(k): i = 0\n",
    "    \n",
    "    #return ''.join([chr(xor(ord(m[i]),k_aug[i])) for i in range(len(m))])\n",
    "    return [chr(xor(ord(m[i]),k_aug[i])) for i in range(len(m))]\n",
    "\n",
    "def d_xor(m, k):\n",
    "    if len(k) > len(m):\n",
    "        k_aug = [i for i in k[:len(m)]]\n",
    "    else:\n",
    "        k_aug = []\n",
    "        i = 0\n",
    "        while len(m) > len(k_aug):\n",
    "            k_aug.append(ord(k[i]))\n",
    "            i += 1\n",
    "            if i == len(k): i = 0\n",
    "    \n",
    "    return ''.join([chr(xor(ord(m[i]),k_aug[i])) for i in range(len(m))])"
   ]
  },
  {
   "cell_type": "code",
   "execution_count": 6,
   "metadata": {},
   "outputs": [
    {
     "name": "stdout",
     "output_type": "stream",
     "text": [
      "['\\x15', '%', '3', '&', 'l', ')', '\"', 'l', '\\x0b', '\\x10', '\\x05', 'e', 'b']\n",
      "Vive la NSI !\n"
     ]
    }
   ],
   "source": [
    "print(c_xor(\"Vive la NSI !\", \"CLE\"))\n",
    "print(d_xor(c_xor(\"Vive la NSI !\", \"CLE\"), \"CLE\"))"
   ]
  }
 ],
 "metadata": {
  "kernelspec": {
   "display_name": "Python 3",
   "language": "python",
   "name": "python3"
  },
  "language_info": {
   "codemirror_mode": {
    "name": "ipython",
    "version": 3
   },
   "file_extension": ".py",
   "mimetype": "text/x-python",
   "name": "python",
   "nbconvert_exporter": "python",
   "pygments_lexer": "ipython3",
   "version": "3.7.7"
  }
 },
 "nbformat": 4,
 "nbformat_minor": 2
}
