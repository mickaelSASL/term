{
 "cells": [
  {
   "cell_type": "markdown",
   "id": "3936e0f1",
   "metadata": {},
   "source": [
    "# LP5 : Mise au point des programmes. Gestion des bugs"
   ]
  },
  {
   "cell_type": "markdown",
   "id": "f57ff188",
   "metadata": {},
   "source": [
    "## B. Les tests\n",
    "\n",
    "### Module pytest\n",
    "\n",
    "La fonction `fibo()` :"
   ]
  },
  {
   "cell_type": "code",
   "execution_count": 1,
   "id": "af905bf1",
   "metadata": {},
   "outputs": [],
   "source": [
    "def fibo(n: int) -> int:\n",
    "    \"\"\"\n",
    "    fibo(n) : n-ième terme de la suite de Fibonacci\n",
    "    \n",
    "    >>> fibo(3)\n",
    "    2\n",
    "    >>> fibo(7)\n",
    "    14\n",
    "\n",
    "    \"\"\"\n",
    "    \n",
    "    if n< 0:\n",
    "        raise ValueError(\"La valeur ne doit pas être négative\")\n",
    "    # First Fibonacci number is 0\n",
    "    elif n == 0:\n",
    "        return 0\n",
    "    # Second Fibonacci number is 1\n",
    "    elif n == 1:\n",
    "        return 1\n",
    "    else:\n",
    "        return fibo(n-1)+fibo(n-2)"
   ]
  },
  {
   "cell_type": "markdown",
   "id": "7541deeb",
   "metadata": {},
   "source": [
    "### Utilisation du module pytest\n",
    "\n",
    "```Python\n",
    "# Fichier test_Fibo.py\n",
    "import pytest\n",
    "def test_0():\n",
    "    assert fibo(0) == 0\n",
    "def test_3():\n",
    "    assert fibo(3) == 2\n",
    "def test_7():\n",
    "    assert fibo(7) == 13\n",
    "def test_neg():\n",
    "    with pytest.raises(ValueError):\n",
    "        fibo(-1)\n",
    "        \n",
    "pytest.main()\n",
    "\n",
    "```"
   ]
  },
  {
   "cell_type": "markdown",
   "id": "8024a08a",
   "metadata": {},
   "source": [
    "### Résultat du module pytest\n",
    "```\n",
    "============================= test session starts =============================\n",
    "platform win32 -- Python 3.8.8, pytest-6.2.3, py-1.10.0, pluggy-0.13.1\n",
    "rootdir: D:\\Desktop\n",
    "plugins: anyio-2.2.0\n",
    "collected 4 items\n",
    "\n",
    "test_Fibo.py ....                                                        [100%]\n",
    "\n",
    "============================== 4 passed in 1.08s ==============================\n",
    "Reloaded modules: test_Fibo\n",
    "============================= test session starts =============================\n",
    "platform win32 -- Python 3.8.8, pytest-6.2.3, py-1.10.0, pluggy-0.13.1\n",
    "rootdir: D:\\Desktop\n",
    "plugins: anyio-2.2.0\n",
    "collected 4 items\n",
    "\n",
    "test_Fibo.py ....                                                        [100%]\n",
    "\n",
    "============================== 4 passed in 2.15s ==============================\n",
    "```"
   ]
  }
 ],
 "metadata": {
  "kernelspec": {
   "display_name": "Python 3",
   "language": "python",
   "name": "python3"
  },
  "language_info": {
   "codemirror_mode": {
    "name": "ipython",
    "version": 3
   },
   "file_extension": ".py",
   "mimetype": "text/x-python",
   "name": "python",
   "nbconvert_exporter": "python",
   "pygments_lexer": "ipython3",
   "version": "3.8.8"
  }
 },
 "nbformat": 4,
 "nbformat_minor": 5
}
