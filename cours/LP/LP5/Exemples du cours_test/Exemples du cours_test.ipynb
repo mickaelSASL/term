{
 "cells": [
  {
   "cell_type": "markdown",
   "source": [
    "# Exemples du cours"
   ],
   "metadata": {}
  },
  {
   "cell_type": "markdown",
   "source": [
    "## B. Les tests\n",
    "\n",
    "### Module pytest\n",
    "\n",
    "La fonction `fibo()` :"
   ],
   "metadata": {}
  },
  {
   "cell_type": "code",
   "execution_count": 1,
   "source": [
    "def fibo(n: int) -> int:\r\n",
    "    \"\"\"\r\n",
    "    fibo(n) : n-ième terme de la suite de Fibonacci\r\n",
    "    \r\n",
    "    >>> fibo(3)\r\n",
    "    2\r\n",
    "    >>> fibo(7)\r\n",
    "    14\r\n",
    "\r\n",
    "    \"\"\"\r\n",
    "    \r\n",
    "    if n< 0:\r\n",
    "        raise ValueError(\"La valeur ne doit pas être négative\")\r\n",
    "    # First Fibonacci number is 0\r\n",
    "    elif n == 0:\r\n",
    "        return 0\r\n",
    "    # Second Fibonacci number is 1\r\n",
    "    elif n == 1:\r\n",
    "        return 1\r\n",
    "    else:\r\n",
    "        return fibo(n-1)+fibo(n-2)"
   ],
   "outputs": [],
   "metadata": {}
  },
  {
   "cell_type": "markdown",
   "source": [
    "### Utilisation du module pytest\n",
    "\n",
    "```Python\n",
    "# Fichier test_Fibo.py\n",
    "import pytest\n",
    "def test_0():\n",
    "    assert fibo(0) == 0\n",
    "def test_3():\n",
    "    assert fibo(3) == 2\n",
    "def test_7():\n",
    "    assert fibo(7) == 13\n",
    "def test_neg():\n",
    "    with pytest.raises(ValueError):\n",
    "        fibo(-1)\n",
    "        \n",
    "pytest.main()\n",
    "\n",
    "```"
   ],
   "metadata": {}
  },
  {
   "cell_type": "markdown",
   "source": [
    "### Résultat du module pytest\n",
    "```\n",
    "============================= test session starts =============================\n",
    "platform win32 -- Python 3.8.8, pytest-6.2.3, py-1.10.0, pluggy-0.13.1\n",
    "rootdir: D:\\Desktop\n",
    "plugins: anyio-2.2.0\n",
    "collected 4 items\n",
    "\n",
    "test_Fibo.py ....                                                        [100%]\n",
    "\n",
    "============================== 4 passed in 1.08s ==============================\n",
    "Reloaded modules: test_Fibo\n",
    "============================= test session starts =============================\n",
    "platform win32 -- Python 3.8.8, pytest-6.2.3, py-1.10.0, pluggy-0.13.1\n",
    "rootdir: D:\\Desktop\n",
    "plugins: anyio-2.2.0\n",
    "collected 4 items\n",
    "\n",
    "test_Fibo.py ....                                                        [100%]\n",
    "\n",
    "============================== 4 passed in 2.15s ==============================\n",
    "```"
   ],
   "metadata": {}
  }
 ],
 "metadata": {
  "kernelspec": {
   "display_name": "Python 3",
   "language": "python",
   "name": "python3"
  },
  "language_info": {
   "codemirror_mode": {
    "name": "ipython",
    "version": 3
   },
   "file_extension": ".py",
   "mimetype": "text/x-python",
   "name": "python",
   "nbconvert_exporter": "python",
   "pygments_lexer": "ipython3",
   "version": "3.8.8"
  }
 },
 "nbformat": 4,
 "nbformat_minor": 5
}